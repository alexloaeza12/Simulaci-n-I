{
  "nbformat": 4,
  "nbformat_minor": 0,
  "metadata": {
    "colab": {
      "provenance": [],
      "authorship_tag": "ABX9TyOdHO4Nlh5Ig4l4rF5/fRIM",
      "include_colab_link": true
    },
    "kernelspec": {
      "name": "python3",
      "display_name": "Python 3"
    },
    "language_info": {
      "name": "python"
    }
  },
  "cells": [
    {
      "cell_type": "markdown",
      "metadata": {
        "id": "view-in-github",
        "colab_type": "text"
      },
      "source": [
        "<a href=\"https://colab.research.google.com/github/alexloaeza12/Simulaci-n-I/blob/main/Prueba_Kolmogorov_Smirnov_a_entregar.ipynb\" target=\"_parent\"><img src=\"https://colab.research.google.com/assets/colab-badge.svg\" alt=\"Open In Colab\"/></a>"
      ]
    },
    {
      "cell_type": "markdown",
      "source": [
        "**Programa de la Prueba de Prueba Kolmogorov-Smirnov**\n",
        "\n",
        "---\n",
        "\n",
        "\n",
        "\n",
        "---\n",
        "\n"
      ],
      "metadata": {
        "id": "TMPGvjoudjG7"
      }
    },
    {
      "cell_type": "markdown",
      "source": [
        "El procedimiento Prueba de Kolmogorov-Smirnov para una muestra compara la función de distribución acumulada observada de una variable con una distribución teórica determinada, que puede ser la normal, la uniforme, la de Poisson o la exponencial.\n",
        "\n",
        "\n",
        "---\n",
        "\n",
        "\n",
        "\n",
        "---\n",
        "\n"
      ],
      "metadata": {
        "id": "GCBT3vACdvLA"
      }
    },
    {
      "cell_type": "markdown",
      "source": [
        "Nuestro programa analizará los datos proporcionados por el usuario y determinara si es una buena descripción del patrón de uso o no lo es."
      ],
      "metadata": {
        "id": "r_kkZqAHd2UV"
      }
    },
    {
      "cell_type": "code",
      "execution_count": 38,
      "metadata": {
        "colab": {
          "base_uri": "https://localhost:8080/"
        },
        "id": "qq73EgiY_SoG",
        "outputId": "9f996382-c276-45b4-abe3-c64fce7098a5"
      },
      "outputs": [
        {
          "output_type": "stream",
          "name": "stdout",
          "text": [
            "********************************\n",
            "* Programa del Prueba Kolmogorov-Smirnov *\n",
            "********************************\n",
            "\n",
            "Ingrese el nivel porcentaje de aceptación:95\n",
            "El nivel de significancia será de 0.05\n"
          ]
        }
      ],
      "source": [
        "import pandas as pd\n",
        "import os\n",
        "from tabulate import tabulate\n",
        "from scipy.stats import chi2\n",
        "import numpy as np\n",
        "import matplotlib.pyplot as plt\n",
        "from scipy.stats import ksone\n",
        "\n",
        "print(\"********************************\")\n",
        "print(\"* Programa del Prueba Kolmogorov-Smirnov *\")\n",
        "print(\"********************************\\n\")\n",
        "\n",
        "Nivel_significancia=int(input(\"Ingrese el nivel porcentaje de aceptación:\"))\n",
        "Nivel_significancia=Nivel_significancia/100\n",
        "alpha= round((1- Nivel_significancia),2)\n",
        "print(\"El nivel de significancia será de\",alpha)"
      ]
    },
    {
      "cell_type": "markdown",
      "source": [
        "#1. Ordenar de menor a mayor los números aleatorios"
      ],
      "metadata": {
        "id": "0ZerIsjHoKLI"
      }
    },
    {
      "cell_type": "markdown",
      "source": [
        "Se le pedirá al usuario que ingrese su archivo Excel con la lista de números y estos se almacenarán en una tabla donde se ordenarán de menor a mayor"
      ],
      "metadata": {
        "id": "XMvitxgCeOux"
      }
    },
    {
      "cell_type": "code",
      "source": [
        "import pandas as pd\n",
        "import os\n",
        "from tabulate import tabulate\n",
        "\n",
        "#Función para cargar el archivo de Excel y obtener los datos\n",
        "def obtener_datos_desde_excel(nombre_archivo):\n",
        "    try:\n",
        "        #Cargamos el archivo de Excel\n",
        "        df = pd.read_excel(nombre_archivo, decimal=',', header=None)  # No asumir que la primera fila es el encabezado\n",
        "\n",
        "        #Fusionamos todas las columnas en una sola lista y las ordenamos\n",
        "        datos = sorted(df.values.flatten())\n",
        "\n",
        "        #Mostramos los datos del archivo\n",
        "        print(\"Datos cargados desde el archivo:\")\n",
        "        print(datos)\n",
        "\n",
        "        return datos\n",
        "\n",
        "    except Exception as e:\n",
        "        print(\"Error al cargar el archivo:\", e)\n",
        "        return None\n",
        "\n",
        "#Función para verificar si el archivo existe\n",
        "def archivo_existe(nombre_archivo):\n",
        "    return os.path.isfile(nombre_archivo)\n",
        "\n",
        "#Pedimos al usuario que ingrese el nombre del archivo de Excel\n",
        "nombre_archivo = input(\"Ingrese el nombre del archivo de Excel (incluyendo la extensión): \")\n",
        "\n",
        "#Verificamos si el archivo existe\n",
        "while not archivo_existe(nombre_archivo):\n",
        "    print(\"El archivo ingresado no existe. Por favor, inténtelo de nuevo.\")\n",
        "    nombre_archivo = input(\"Ingrese el nombre del archivo de Excel (incluyendo la extensión): \")\n",
        "\n",
        "#Obtenemos los datos desde el archivo de Excel\n",
        "datos = obtener_datos_desde_excel(nombre_archivo)\n",
        "\n",
        "#Mostramos los datos\n",
        "if datos is not None:\n",
        "    print(\"Los datos del archivo Excel están disponibles.\")\n",
        "\n",
        "    #Creamos una tabla con dos columnas: 'i' y 'x_i'\n",
        "    tabla = [[i+1, datos[i]] for i in range(len(datos))]\n",
        "\n",
        "    #Mostramos la tabla\n",
        "    print(\"\\nTabla:\")\n",
        "    print(tabulate(tabla, headers=[\"i\", \"x_i\"], tablefmt=\"grid\"))\n",
        "else:\n",
        "    print(\"No se pudieron cargar los datos del archivo Excel.\")\n"
      ],
      "metadata": {
        "colab": {
          "base_uri": "https://localhost:8080/"
        },
        "id": "nXc1ZAHa4p_h",
        "outputId": "a1eb31cf-46bb-4b71-b915-fe69f4ae29f4"
      },
      "execution_count": 39,
      "outputs": [
        {
          "output_type": "stream",
          "name": "stdout",
          "text": [
            "Ingrese el nombre del archivo de Excel (incluyendo la extensión): Datos.xlsx\n",
            "Datos cargados desde el archivo:\n",
            "[0.0318, 0.0856, 0.0954, 0.1492, 0.1525, 0.1592, 0.2006, 0.2088, 0.2204, 0.2258, 0.2415, 0.3188, 0.3254, 0.341, 0.3469, 0.3681, 0.3808, 0.3884, 0.4272, 0.4557, 0.4603, 0.472, 0.5027, 0.5291, 0.5461, 0.5613, 0.5739, 0.5844, 0.5991, 0.5992, 0.5999, 0.6235, 0.6289, 0.636, 0.6431, 0.7387, 0.7401, 0.7977, 0.8147, 0.8376, 0.8536, 0.8589, 0.8681, 0.875, 0.8797, 0.8846, 0.917, 0.9606, 0.9848, 0.9996]\n",
            "Los datos del archivo Excel están disponibles.\n",
            "\n",
            "Tabla:\n",
            "+-----+--------+\n",
            "|   i |    x_i |\n",
            "+=====+========+\n",
            "|   1 | 0.0318 |\n",
            "+-----+--------+\n",
            "|   2 | 0.0856 |\n",
            "+-----+--------+\n",
            "|   3 | 0.0954 |\n",
            "+-----+--------+\n",
            "|   4 | 0.1492 |\n",
            "+-----+--------+\n",
            "|   5 | 0.1525 |\n",
            "+-----+--------+\n",
            "|   6 | 0.1592 |\n",
            "+-----+--------+\n",
            "|   7 | 0.2006 |\n",
            "+-----+--------+\n",
            "|   8 | 0.2088 |\n",
            "+-----+--------+\n",
            "|   9 | 0.2204 |\n",
            "+-----+--------+\n",
            "|  10 | 0.2258 |\n",
            "+-----+--------+\n",
            "|  11 | 0.2415 |\n",
            "+-----+--------+\n",
            "|  12 | 0.3188 |\n",
            "+-----+--------+\n",
            "|  13 | 0.3254 |\n",
            "+-----+--------+\n",
            "|  14 | 0.341  |\n",
            "+-----+--------+\n",
            "|  15 | 0.3469 |\n",
            "+-----+--------+\n",
            "|  16 | 0.3681 |\n",
            "+-----+--------+\n",
            "|  17 | 0.3808 |\n",
            "+-----+--------+\n",
            "|  18 | 0.3884 |\n",
            "+-----+--------+\n",
            "|  19 | 0.4272 |\n",
            "+-----+--------+\n",
            "|  20 | 0.4557 |\n",
            "+-----+--------+\n",
            "|  21 | 0.4603 |\n",
            "+-----+--------+\n",
            "|  22 | 0.472  |\n",
            "+-----+--------+\n",
            "|  23 | 0.5027 |\n",
            "+-----+--------+\n",
            "|  24 | 0.5291 |\n",
            "+-----+--------+\n",
            "|  25 | 0.5461 |\n",
            "+-----+--------+\n",
            "|  26 | 0.5613 |\n",
            "+-----+--------+\n",
            "|  27 | 0.5739 |\n",
            "+-----+--------+\n",
            "|  28 | 0.5844 |\n",
            "+-----+--------+\n",
            "|  29 | 0.5991 |\n",
            "+-----+--------+\n",
            "|  30 | 0.5992 |\n",
            "+-----+--------+\n",
            "|  31 | 0.5999 |\n",
            "+-----+--------+\n",
            "|  32 | 0.6235 |\n",
            "+-----+--------+\n",
            "|  33 | 0.6289 |\n",
            "+-----+--------+\n",
            "|  34 | 0.636  |\n",
            "+-----+--------+\n",
            "|  35 | 0.6431 |\n",
            "+-----+--------+\n",
            "|  36 | 0.7387 |\n",
            "+-----+--------+\n",
            "|  37 | 0.7401 |\n",
            "+-----+--------+\n",
            "|  38 | 0.7977 |\n",
            "+-----+--------+\n",
            "|  39 | 0.8147 |\n",
            "+-----+--------+\n",
            "|  40 | 0.8376 |\n",
            "+-----+--------+\n",
            "|  41 | 0.8536 |\n",
            "+-----+--------+\n",
            "|  42 | 0.8589 |\n",
            "+-----+--------+\n",
            "|  43 | 0.8681 |\n",
            "+-----+--------+\n",
            "|  44 | 0.875  |\n",
            "+-----+--------+\n",
            "|  45 | 0.8797 |\n",
            "+-----+--------+\n",
            "|  46 | 0.8846 |\n",
            "+-----+--------+\n",
            "|  47 | 0.917  |\n",
            "+-----+--------+\n",
            "|  48 | 0.9606 |\n",
            "+-----+--------+\n",
            "|  49 | 0.9848 |\n",
            "+-----+--------+\n",
            "|  50 | 0.9996 |\n",
            "+-----+--------+\n"
          ]
        }
      ]
    },
    {
      "cell_type": "markdown",
      "source": [
        "#2. Calculamos D^+, D^- y D\n"
      ],
      "metadata": {
        "id": "FQ_gjVU246DD"
      }
    },
    {
      "cell_type": "markdown",
      "source": [
        "Ahora con nuestros números ya ordenados se harán las operaciones para determinar nuestras \"D^-\", \"D^+\". De los valores obtenidos se seleccionará el más grande de ambas columnas y el más grande de los 2 números será nuestro estadístico de pureba."
      ],
      "metadata": {
        "id": "QWRsClSMedb-"
      }
    },
    {
      "cell_type": "code",
      "source": [
        "if datos is not None:\n",
        "    print(\"Los datos del archivo Excel están disponibles.\")\n",
        "\n",
        "    #Calculamos el tamaño de los datos\n",
        "    n = len(datos)\n",
        "\n",
        "    #Creamos una tabla con cuatro columnas: 'i', 'x_i', 'D^-' y 'D^+'\n",
        "    tabla = [[i+1, datos[i], abs(datos[i] - (i)/n), abs((i+1)/n - datos[i])] for i in range(n)]\n",
        "\n",
        "    #Mostramos la tabla\n",
        "    print(\"\\nTabla:\")\n",
        "    print(tabulate(tabla, headers=[\"i\", \"x_i\", \"D^-\", \"D^+\"], tablefmt=\"grid\"))\n",
        "\n",
        "    #Encontramos el número más grande en la columna D^-\n",
        "    max_d_minus = max(row[2] for row in tabla)\n",
        "    print(f\"El número más grande en la columna D^- es: {max_d_minus}\")\n",
        "\n",
        "    #Encontramos el número más grande en la columna D^+\n",
        "    max_d_plus = max(row[3] for row in tabla)\n",
        "    print(f\"El número más grande en la columna D^+ es: {max_d_plus}\")\n",
        "\n",
        "    #Encontramos el máximo entre max_d_minus y max_d_plus\n",
        "    max_d = max(max_d_minus, max_d_plus)\n",
        "    print(f\"Por lo tanto nuestra 'D' es: {max_d}\")\n",
        "\n",
        "else:\n",
        "    print(\"No se pudieron cargar los datos del archivo Excel.\")\n"
      ],
      "metadata": {
        "colab": {
          "base_uri": "https://localhost:8080/"
        },
        "id": "mB7y2NpWPoA_",
        "outputId": "a8727201-493a-4ebf-e5cd-507255d208c1"
      },
      "execution_count": 40,
      "outputs": [
        {
          "output_type": "stream",
          "name": "stdout",
          "text": [
            "Los datos del archivo Excel están disponibles.\n",
            "\n",
            "Tabla:\n",
            "+-----+--------+--------+--------+\n",
            "|   i |    x_i |    D^- |    D^+ |\n",
            "+=====+========+========+========+\n",
            "|   1 | 0.0318 | 0.0318 | 0.0118 |\n",
            "+-----+--------+--------+--------+\n",
            "|   2 | 0.0856 | 0.0656 | 0.0456 |\n",
            "+-----+--------+--------+--------+\n",
            "|   3 | 0.0954 | 0.0554 | 0.0354 |\n",
            "+-----+--------+--------+--------+\n",
            "|   4 | 0.1492 | 0.0892 | 0.0692 |\n",
            "+-----+--------+--------+--------+\n",
            "|   5 | 0.1525 | 0.0725 | 0.0525 |\n",
            "+-----+--------+--------+--------+\n",
            "|   6 | 0.1592 | 0.0592 | 0.0392 |\n",
            "+-----+--------+--------+--------+\n",
            "|   7 | 0.2006 | 0.0806 | 0.0606 |\n",
            "+-----+--------+--------+--------+\n",
            "|   8 | 0.2088 | 0.0688 | 0.0488 |\n",
            "+-----+--------+--------+--------+\n",
            "|   9 | 0.2204 | 0.0604 | 0.0404 |\n",
            "+-----+--------+--------+--------+\n",
            "|  10 | 0.2258 | 0.0458 | 0.0258 |\n",
            "+-----+--------+--------+--------+\n",
            "|  11 | 0.2415 | 0.0415 | 0.0215 |\n",
            "+-----+--------+--------+--------+\n",
            "|  12 | 0.3188 | 0.0988 | 0.0788 |\n",
            "+-----+--------+--------+--------+\n",
            "|  13 | 0.3254 | 0.0854 | 0.0654 |\n",
            "+-----+--------+--------+--------+\n",
            "|  14 | 0.341  | 0.081  | 0.061  |\n",
            "+-----+--------+--------+--------+\n",
            "|  15 | 0.3469 | 0.0669 | 0.0469 |\n",
            "+-----+--------+--------+--------+\n",
            "|  16 | 0.3681 | 0.0681 | 0.0481 |\n",
            "+-----+--------+--------+--------+\n",
            "|  17 | 0.3808 | 0.0608 | 0.0408 |\n",
            "+-----+--------+--------+--------+\n",
            "|  18 | 0.3884 | 0.0484 | 0.0284 |\n",
            "+-----+--------+--------+--------+\n",
            "|  19 | 0.4272 | 0.0672 | 0.0472 |\n",
            "+-----+--------+--------+--------+\n",
            "|  20 | 0.4557 | 0.0757 | 0.0557 |\n",
            "+-----+--------+--------+--------+\n",
            "|  21 | 0.4603 | 0.0603 | 0.0403 |\n",
            "+-----+--------+--------+--------+\n",
            "|  22 | 0.472  | 0.052  | 0.032  |\n",
            "+-----+--------+--------+--------+\n",
            "|  23 | 0.5027 | 0.0627 | 0.0427 |\n",
            "+-----+--------+--------+--------+\n",
            "|  24 | 0.5291 | 0.0691 | 0.0491 |\n",
            "+-----+--------+--------+--------+\n",
            "|  25 | 0.5461 | 0.0661 | 0.0461 |\n",
            "+-----+--------+--------+--------+\n",
            "|  26 | 0.5613 | 0.0613 | 0.0413 |\n",
            "+-----+--------+--------+--------+\n",
            "|  27 | 0.5739 | 0.0539 | 0.0339 |\n",
            "+-----+--------+--------+--------+\n",
            "|  28 | 0.5844 | 0.0444 | 0.0244 |\n",
            "+-----+--------+--------+--------+\n",
            "|  29 | 0.5991 | 0.0391 | 0.0191 |\n",
            "+-----+--------+--------+--------+\n",
            "|  30 | 0.5992 | 0.0192 | 0.0008 |\n",
            "+-----+--------+--------+--------+\n",
            "|  31 | 0.5999 | 0.0001 | 0.0201 |\n",
            "+-----+--------+--------+--------+\n",
            "|  32 | 0.6235 | 0.0035 | 0.0165 |\n",
            "+-----+--------+--------+--------+\n",
            "|  33 | 0.6289 | 0.0111 | 0.0311 |\n",
            "+-----+--------+--------+--------+\n",
            "|  34 | 0.636  | 0.024  | 0.044  |\n",
            "+-----+--------+--------+--------+\n",
            "|  35 | 0.6431 | 0.0369 | 0.0569 |\n",
            "+-----+--------+--------+--------+\n",
            "|  36 | 0.7387 | 0.0387 | 0.0187 |\n",
            "+-----+--------+--------+--------+\n",
            "|  37 | 0.7401 | 0.0201 | 0.0001 |\n",
            "+-----+--------+--------+--------+\n",
            "|  38 | 0.7977 | 0.0577 | 0.0377 |\n",
            "+-----+--------+--------+--------+\n",
            "|  39 | 0.8147 | 0.0547 | 0.0347 |\n",
            "+-----+--------+--------+--------+\n",
            "|  40 | 0.8376 | 0.0576 | 0.0376 |\n",
            "+-----+--------+--------+--------+\n",
            "|  41 | 0.8536 | 0.0536 | 0.0336 |\n",
            "+-----+--------+--------+--------+\n",
            "|  42 | 0.8589 | 0.0389 | 0.0189 |\n",
            "+-----+--------+--------+--------+\n",
            "|  43 | 0.8681 | 0.0281 | 0.0081 |\n",
            "+-----+--------+--------+--------+\n",
            "|  44 | 0.875  | 0.015  | 0.005  |\n",
            "+-----+--------+--------+--------+\n",
            "|  45 | 0.8797 | 0.0003 | 0.0203 |\n",
            "+-----+--------+--------+--------+\n",
            "|  46 | 0.8846 | 0.0154 | 0.0354 |\n",
            "+-----+--------+--------+--------+\n",
            "|  47 | 0.917  | 0.003  | 0.023  |\n",
            "+-----+--------+--------+--------+\n",
            "|  48 | 0.9606 | 0.0206 | 0.0006 |\n",
            "+-----+--------+--------+--------+\n",
            "|  49 | 0.9848 | 0.0248 | 0.0048 |\n",
            "+-----+--------+--------+--------+\n",
            "|  50 | 0.9996 | 0.0196 | 0.0004 |\n",
            "+-----+--------+--------+--------+\n",
            "El número más grande en la columna D^- es: 0.09879999999999997\n",
            "El número más grande en la columna D^+ es: 0.07879999999999998\n",
            "Por lo tanto nuestra 'D' es: 0.09879999999999997\n"
          ]
        }
      ]
    },
    {
      "cell_type": "markdown",
      "source": [
        "#3. Comparamos con el valor crítico"
      ],
      "metadata": {
        "id": "rDoI8G-OQItm"
      }
    },
    {
      "cell_type": "markdown",
      "source": [
        "Calculamos el valor crítico importando: from scipy.stats import ksone y tomando en cuenta nuestro nivel de significancia y número de datos. Por uútumo comparamos con el valor crítico y tomamos una decisión."
      ],
      "metadata": {
        "id": "15Bq40bTe7y-"
      }
    },
    {
      "cell_type": "code",
      "source": [
        "#Calculamos del valor crítico de Kolmogorov-Smirnov\n",
        "critical_value = ksone.ppf(1 - Nivel_significancia, n)\n",
        "print(f\"El valor crítico de la prueba de Kolmogorov-Smirnov para α={alpha} y n={n} es: {critical_value}\")\n",
        "\n",
        "#Verificamos si el valor de \"D\" es menor que el valor crítico\n",
        "if max_d < critical_value:\n",
        "    print(\"Nuestro valor D es menor que el valor crítico. Por lo tanto, se acepta que es una buena descripción del patrón de uso.\")\n",
        "else:\n",
        "    print(\"Nuestro valor D es mayor que el valor crítico. Por lo tanto, mo es una buena descripción del patrón de uso.\")\n"
      ],
      "metadata": {
        "colab": {
          "base_uri": "https://localhost:8080/"
        },
        "id": "iik1KF7EUB2a",
        "outputId": "9bc5fdce-9987-4fbd-de71-4834c2ae72b8"
      },
      "execution_count": 43,
      "outputs": [
        {
          "output_type": "stream",
          "name": "stdout",
          "text": [
            "El valor crítico de la prueba de Kolmogorov-Smirnov para α=0.05 y n=50 es: 0.019452773477899366\n",
            "Nuestro valor D es mayor que el valor crítico. No es una buena descripción del patrón de uso.\n"
          ]
        }
      ]
    }
  ]
}