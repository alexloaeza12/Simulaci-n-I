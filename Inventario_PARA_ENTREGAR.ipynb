{
  "nbformat": 4,
  "nbformat_minor": 0,
  "metadata": {
    "colab": {
      "provenance": [],
      "authorship_tag": "ABX9TyNg5iBr2C7Q16G/mVRMr5TQ",
      "include_colab_link": true
    },
    "kernelspec": {
      "name": "python3",
      "display_name": "Python 3"
    },
    "language_info": {
      "name": "python"
    }
  },
  "cells": [
    {
      "cell_type": "markdown",
      "metadata": {
        "id": "view-in-github",
        "colab_type": "text"
      },
      "source": [
        "<a href=\"https://colab.research.google.com/github/alexloaeza12/Simulaci-n-I/blob/main/Inventario_PARA_ENTREGAR.ipynb\" target=\"_parent\"><img src=\"https://colab.research.google.com/assets/colab-badge.svg\" alt=\"Open In Colab\"/></a>"
      ]
    },
    {
      "cell_type": "markdown",
      "source": [
        "# Inventario\n",
        "\n",
        "\n",
        "\n",
        "---\n",
        "\n",
        "\n",
        "\n",
        "---\n",
        "\n",
        "\n",
        "## Simulación del Sistema de Inventarios\n",
        "Este cuaderno de Colab tiene como objetivo implementar una simulación del sistema de inventarios siguiendo el Ejemplo 5.5 del libro de Coss-Bu. Utilizaremos un algoritmo de optimización para encontrar la cantidad óptima a ordenar (q) y el nivel óptimo de reorden (R).\n",
        "\n",
        "El proceso seguido es el siguiente:\n",
        "1. Definición de los parámetros y datos necesarios (distribuciones de demanda y tiempo de entrega, factores estacionales, costos y el inventario inicial).\n",
        "2. Funciones para generar demanda y tiempo de entrega aleatorios.\n",
        "3. Implementación de la función de simulación del inventario que evalúa el desempeño del sistema durante un año.\n",
        "4. Definición de una función objetivo para calcular el costo total en función de q y R.\n",
        "5. Uso de un algoritmo de optimización para encontrar los valores óptimos de q y R.\n",
        "6. Ejecución de la simulación con los valores óptimos y visualización de los resultados.\n",
        "\n",
        "\n",
        "\n",
        "---\n",
        "\n",
        "\n"
      ],
      "metadata": {
        "id": "jDW0yAHz95rZ"
      }
    },
    {
      "cell_type": "markdown",
      "source": [
        "#Explicación del algoritmo seguido:\n",
        "\n",
        "1. Definición de Parámetros: Se definen las distribuciones de demanda y tiempo de entrega, así como los costos y el inventario inicial.\n",
        "2. Generación de Demanda y Tiempo de Entrega: Se crean funciones para generar valores aleatorios basados en las distribuciones de probabilidad definidas.\n",
        "3. Simulación del Inventario: Se simula el inventario mes a mes, considerando los factores estacionales y registrando los pedidos y costos.\n",
        "4. Función Objetivo: Se define una función objetivo para calcular el costo total en función de los valores de\n",
        "𝑞\n",
        "y\n",
        "𝑅.\n",
        "5. Optimización: Se utiliza el algoritmo minimize para encontrar los valores de\n",
        "𝑞\n",
        "y\n",
        "𝑅\n",
        "que minimizan el costo total.\n",
        "6. Simulación y Visualización: Finalmente, se ejecuta la simulación con los valores óptimos y se visualizan los resultados.\n",
        "\n",
        "\n",
        "---\n",
        "\n"
      ],
      "metadata": {
        "id": "mFNEfii_-WwC"
      }
    },
    {
      "cell_type": "markdown",
      "source": [
        "##Parte 1: Importar bibliotecas y definir parámetros"
      ],
      "metadata": {
        "id": "72nqH9j6Gy5H"
      }
    },
    {
      "cell_type": "code",
      "source": [
        "# Primero, importamos las bibliotecas necesarias para la simulación\n",
        "import numpy as np\n",
        "import pandas as pd\n",
        "import matplotlib.pyplot as plt\n",
        "from scipy.optimize import minimize\n",
        "\n",
        "# Distribución de la demanda mensual\n",
        "# Definimos la demanda mensual como un diccionario con la cantidad de demanda y su respectiva probabilidad\n",
        "demanda = {\n",
        "    35: 0.010, 36: 0.015, 37: 0.020, 38: 0.020, 39: 0.022,\n",
        "    40: 0.023, 41: 0.025, 42: 0.027, 43: 0.028, 44: 0.029,\n",
        "    45: 0.035, 46: 0.045, 47: 0.060, 48: 0.065, 49: 0.070,\n",
        "    50: 0.080, 51: 0.075, 52: 0.070, 53: 0.065, 54: 0.060,\n",
        "    55: 0.050, 56: 0.040, 57: 0.030, 58: 0.016, 59: 0.015, 60: 0.005\n",
        "}\n",
        "\n",
        "# Distribución del tiempo de entrega\n",
        "# De manera similar, definimos la distribución del tiempo de entrega en meses y su probabilidad\n",
        "tiempo_entrega = {\n",
        "    1: 0.30, 2: 0.40, 3: 0.30\n",
        "}\n",
        "\n",
        "# Factores estacionales\n",
        "# Los factores estacionales para cada mes del año que afectan la demanda\n",
        "factores_estacionales = {\n",
        "    1: 1.20, 2: 1.00, 3: 0.90, 4: 0.80, 5: 0.80, 6: 0.70,\n",
        "    7: 0.80, 8: 0.90, 9: 1.00, 10: 1.20, 11: 1.30, 12: 1.40\n",
        "}\n",
        "\n",
        "# Costos asociados al inventario\n",
        "costo_ordenar = 100      # Costo por realizar un pedido\n",
        "costo_inventario = 20    # Costo por mantener una unidad en inventario por año\n",
        "costo_faltante = 50      # Costo por unidad faltante\n",
        "\n",
        "# Inventario inicial\n",
        "inventario_inicial = 150  # Nivel de inventario inicial\n"
      ],
      "metadata": {
        "id": "OFVJfgplGsrV"
      },
      "execution_count": 25,
      "outputs": []
    },
    {
      "cell_type": "markdown",
      "source": [
        "##Parte 2: Funciones para generar demanda y tiempo de entrega"
      ],
      "metadata": {
        "id": "wbo-ae_WG9Po"
      }
    },
    {
      "cell_type": "code",
      "source": [
        "# Definimos funciones para generar demanda y tiempo de entrega según sus distribuciones de probabilidad\n",
        "\n",
        "def generar_demanda():\n",
        "    # Genera la demanda basada en la distribución empírica dada\n",
        "    cantidades = list(demanda.keys())\n",
        "    probabilidades = list(demanda.values())\n",
        "    return np.random.choice(cantidades, p=probabilidades)\n",
        "\n",
        "def generar_tiempo_entrega():\n",
        "    # Genera el tiempo de entrega basado en la distribución de probabilidad dada\n",
        "    tiempos = list(tiempo_entrega.keys())\n",
        "    probabilidades = list(tiempo_entrega.values())\n",
        "    return np.random.choice(tiempos, p=probabilidades)\n"
      ],
      "metadata": {
        "id": "oZvqJREIHAO_"
      },
      "execution_count": 26,
      "outputs": []
    },
    {
      "cell_type": "markdown",
      "source": [
        "##Parte 3: Función para simular el inventario"
      ],
      "metadata": {
        "id": "XGSUKBXNHDcI"
      }
    },
    {
      "cell_type": "code",
      "source": [
        "# La función simular_inventario realiza la simulación del inventario durante un año (12 meses)\n",
        "\n",
        "def simular_inventario(meses=12, q=200, R=100):\n",
        "    inventario = inventario_inicial  # Inicializamos el inventario\n",
        "    costo_total_ordenar = 0\n",
        "    costo_total_inventario = 0\n",
        "    costo_total_faltante = 0\n",
        "    historial_inventario = []\n",
        "    historial_pedidos = []\n",
        "    historial_faltantes = []\n",
        "\n",
        "    pedidos = []  # Lista para rastrear los pedidos pendientes\n",
        "\n",
        "    for mes in range(1, meses + 1):\n",
        "        demanda_mes = generar_demanda() * factores_estacionales[mes]  # Generamos la demanda para el mes actual\n",
        "\n",
        "        # Registrar pedidos si llegan en este mes\n",
        "        if pedidos:\n",
        "            for pedido in pedidos.copy():\n",
        "                if pedido[1] == mes:\n",
        "                    inventario += pedido[0]\n",
        "                    pedidos.remove(pedido)\n",
        "\n",
        "        if inventario < R:\n",
        "            # Si el inventario cae por debajo del nivel de reorden, hacemos un pedido\n",
        "            pedido = q\n",
        "            tiempo_entrega_mes = generar_tiempo_entrega()\n",
        "            pedidos.append((pedido, mes + tiempo_entrega_mes))  # Agregamos el pedido con el tiempo de entrega\n",
        "            costo_total_ordenar += costo_ordenar\n",
        "            historial_pedidos.append((mes, pedido))\n",
        "\n",
        "        if demanda_mes > inventario:\n",
        "            # Calculamos los faltantes si la demanda excede el inventario\n",
        "            faltantes = demanda_mes - inventario\n",
        "            costo_total_faltante += faltantes * costo_faltante\n",
        "            inventario = 0\n",
        "        else:\n",
        "            faltantes = 0\n",
        "            inventario -= demanda_mes\n",
        "\n",
        "        # Calculamos el costo de mantener el inventario\n",
        "        costo_total_inventario += inventario * costo_inventario / 12\n",
        "        historial_inventario.append(inventario)\n",
        "        historial_faltantes.append(faltantes)\n",
        "\n",
        "    costo_total = costo_total_ordenar + costo_total_inventario + costo_total_faltante\n",
        "\n",
        "    return historial_inventario, historial_pedidos, historial_faltantes, costo_total\n"
      ],
      "metadata": {
        "id": "rgw1V0CZHG66"
      },
      "execution_count": 27,
      "outputs": []
    },
    {
      "cell_type": "markdown",
      "source": [
        "##Parte 4: Función objetivo para la optimización"
      ],
      "metadata": {
        "id": "loCL9QSeHLMY"
      }
    },
    {
      "cell_type": "code",
      "source": [
        "# Definimos una función objetivo que utilizaremos para encontrar los valores óptimos de q y R\n",
        "\n",
        "def objetivo(params):\n",
        "    q, R = params\n",
        "    _, _, _, costo_total = simular_inventario(q=int(q), R=int(R))\n",
        "    return costo_total\n"
      ],
      "metadata": {
        "id": "00WCEimGHMMm"
      },
      "execution_count": 28,
      "outputs": []
    },
    {
      "cell_type": "markdown",
      "source": [
        "##Parte 5: Optimización para encontrar los valores óptimos de q y R"
      ],
      "metadata": {
        "id": "WuxTBenhHOIz"
      }
    },
    {
      "cell_type": "code",
      "source": [
        "# Utilizamos el algoritmo de optimización 'minimize' de SciPy para encontrar los valores óptimos de q y R\n",
        "\n",
        "# Definimos los límites de búsqueda y las condiciones iniciales\n",
        "limites = [(50, 250), (50, 200)]\n",
        "condiciones_iniciales = [100, 100]\n",
        "\n",
        "# Ejecutamos la optimización\n",
        "resultado = minimize(objetivo, condiciones_iniciales, bounds=limites, method='L-BFGS-B')\n",
        "mejor_q, mejor_R = resultado.x\n",
        "\n",
        "print(f'Cantidad óptima a ordenar (q): {int(mejor_q)}')\n",
        "print(f'Nivel óptimo de reorden (R): {int(mejor_R)}')\n",
        "print(f'Costo total mínimo: ${resultado.fun:.2f}')\n"
      ],
      "metadata": {
        "colab": {
          "base_uri": "https://localhost:8080/"
        },
        "id": "9XO48PPrHZer",
        "outputId": "9af17c99-6f1d-4394-f66d-9539f0926ba8"
      },
      "execution_count": 40,
      "outputs": [
        {
          "output_type": "stream",
          "name": "stdout",
          "text": [
            "Cantidad óptima a ordenar (q): 100\n",
            "Nivel óptimo de reorden (R): 99\n",
            "Costo total mínimo: $4580.50\n"
          ]
        }
      ]
    },
    {
      "cell_type": "markdown",
      "source": [
        "##Parte 6: Simulación con los valores óptimos y visualización de resultados"
      ],
      "metadata": {
        "id": "7fkCLcDLHd-O"
      }
    },
    {
      "cell_type": "code",
      "source": [
        "# Ejecutamos la simulación con los valores óptimos encontrados\n",
        "historial_inventario, historial_pedidos, historial_faltantes, costo_total = simular_inventario(q=int(mejor_q), R=int(mejor_R))\n",
        "\n",
        "# Visualizamos los resultados de la simulación\n",
        "meses = range(1, 13)\n",
        "plt.plot(meses, historial_inventario, label='Inventario')\n",
        "plt.scatter(*zip(*historial_pedidos), color='red', label='Pedidos')\n",
        "plt.xlabel('Mes')\n",
        "plt.ylabel('Unidades')\n",
        "plt.title('Simulación de Inventario')\n",
        "plt.legend()\n",
        "plt.show()\n",
        "\n",
        "print(f'Costo total: ${costo_total:.2f}')\n"
      ],
      "metadata": {
        "colab": {
          "base_uri": "https://localhost:8080/",
          "height": 490
        },
        "id": "jFyo07OQHg-5",
        "outputId": "46d034f1-8a37-4ffa-e52e-28f68d8606a1"
      },
      "execution_count": 42,
      "outputs": [
        {
          "output_type": "display_data",
          "data": {
            "text/plain": [
              "<Figure size 640x480 with 1 Axes>"
            ],
            "image/png": "[encoded data removed]"
          },
          "metadata": {}
        },
        {
          "output_type": "stream",
          "name": "stdout",
          "text": [
            "Costo total: $3181.17\n"
          ]
        }
      ]
    }
  ]
}