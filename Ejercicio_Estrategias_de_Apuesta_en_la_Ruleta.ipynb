{
  "nbformat": 4,
  "nbformat_minor": 0,
  "metadata": {
    "colab": {
      "provenance": [],
      "include_colab_link": true
    },
    "kernelspec": {
      "name": "python3",
      "display_name": "Python 3"
    },
    "language_info": {
      "name": "python"
    }
  },
  "cells": [
    {
      "cell_type": "markdown",
      "metadata": {
        "id": "view-in-github",
        "colab_type": "text"
      },
      "source": [
        "<a href=\"https://colab.research.google.com/github/alexloaeza12/Simulaci-n-I/blob/main/Ejercicio_Estrategias_de_Apuesta_en_la_Ruleta.ipynb\" target=\"_parent\"><img src=\"https://colab.research.google.com/assets/colab-badge.svg\" alt=\"Open In Colab\"/></a>"
      ]
    },
    {
      "cell_type": "markdown",
      "source": [
        "# Ejercicio: Estrategias de Apuesta en la Ruleta\n",
        "\n",
        "En este ejercicio, vamos a simular dos estrategias de apuesta en el juego de la ruleta. La ruleta tiene 18 números rojos, 18 números negros y 2 números verdes (cero y doble cero). Un jugador puede apostar al color rojo o al color negro. Si el jugador acierta el color, gana la cantidad apostada; si pierde, pierde la cantidad apostada.\n",
        "\n",
        "### Estrategias a Simular:\n",
        "\n",
        "\n",
        "1.   Estrategia Fija: El jugador apuesta \\$1 al color rojo en cada tirada.\n",
        "2.   Estrategia de Martingala: El jugador empieza apostando $1 al color rojo.\n",
        "\n",
        "\n",
        "Si pierde, dobla la apuesta en la siguiente tirada, y así sucesivamente, hasta un límite de \\$500. Si gana, vuelve a apostar $1. Si el jugador pierde la apuesta de \\$500, comienza de nuevo apostando \\$1.\n",
        "\n",
        "Cada jugador inicia el juego con \\$200. Vamos a realizar 1000 simulaciones para cada estrategia y calcular el dinero promedio al final de las rondas para determinar cuál es la mejor estrategia.\n",
        "\n",
        "\n",
        "---\n",
        "\n",
        "\n",
        "\n",
        "---\n",
        "\n"
      ],
      "metadata": {
        "id": "hSq95E6c0Blr"
      }
    },
    {
      "cell_type": "markdown",
      "source": [
        "##Importación de la Librería Random"
      ],
      "metadata": {
        "id": "fUvz0FK21F6z"
      }
    },
    {
      "cell_type": "code",
      "source": [
        "import random\n"
      ],
      "metadata": {
        "id": "8lYLc3II0DUU"
      },
      "execution_count": null,
      "outputs": []
    },
    {
      "cell_type": "markdown",
      "source": [
        "Primero importamos la librería random, que utilizaremos para simular las tiradas de la ruleta de manera aleatoria."
      ],
      "metadata": {
        "id": "WPzmoOEB1Mki"
      }
    },
    {
      "cell_type": "markdown",
      "source": [
        "##Definición de la Función tirar_ruleta"
      ],
      "metadata": {
        "id": "PEr9xmqR1Pkx"
      }
    },
    {
      "cell_type": "code",
      "source": [
        "def tirar_ruleta():\n",
        "    numeros = [\"rojo\"] * 18 + [\"negro\"] * 18 + [\"verde\"] * 2\n",
        "    return random.choice(numeros)\n"
      ],
      "metadata": {
        "id": "ocBTQtqA1X-X"
      },
      "execution_count": null,
      "outputs": []
    },
    {
      "cell_type": "markdown",
      "source": [
        "La función tirar_ruleta simula una tirada de la ruleta. En la ruleta hay 18 números rojos, 18 números negros y 2 números verdes. La función devuelve un color al azar, simulando el resultado de una tirada."
      ],
      "metadata": {
        "id": "dUok5M7d1aBW"
      }
    },
    {
      "cell_type": "markdown",
      "source": [
        "##Definición de la Estrategia Fija"
      ],
      "metadata": {
        "id": "4ohAke9_1cZh"
      }
    },
    {
      "cell_type": "code",
      "source": [
        "def estrategia_fija(dinero_inicial, apuesta_fija, rondas):\n",
        "    dinero = dinero_inicial\n",
        "    for _ in range(rondas):\n",
        "        resultado = tirar_ruleta()\n",
        "        if resultado == \"rojo\":\n",
        "            dinero += apuesta_fija\n",
        "        else:\n",
        "            dinero -= apuesta_fija\n",
        "        if dinero <= 0:\n",
        "            break\n",
        "    return dinero\n"
      ],
      "metadata": {
        "id": "k20XrazD1eky"
      },
      "execution_count": null,
      "outputs": []
    },
    {
      "cell_type": "markdown",
      "source": [
        "La función estrategia_fija representa la estrategia donde el jugador siempre apuesta una cantidad fija al color rojo. La función toma como parámetros el dinero inicial, la cantidad de la apuesta fija y el número de rondas a jugar. Si el jugador gana (sale rojo), aumenta su dinero; si pierde (sale negro o verde), disminuye su dinero."
      ],
      "metadata": {
        "id": "X2nRRvIO1gsK"
      }
    },
    {
      "cell_type": "markdown",
      "source": [
        "##Definición de la Estrategia de Martingala"
      ],
      "metadata": {
        "id": "L2-LCnyy1jRO"
      }
    },
    {
      "cell_type": "code",
      "source": [
        "def estrategia_martingala(dinero_inicial, apuesta_inicial, limite_apuesta, rondas):\n",
        "    dinero = dinero_inicial\n",
        "    apuesta = apuesta_inicial\n",
        "    for _ in range(rondas):\n",
        "        resultado = tirar_ruleta()\n",
        "        if resultado == \"rojo\":\n",
        "            dinero += apuesta\n",
        "            apuesta = apuesta_inicial\n",
        "        else:\n",
        "            dinero -= apuesta\n",
        "            apuesta = min(apuesta * 2, limite_apuesta)\n",
        "        if dinero <= 0:\n",
        "            break\n",
        "        if apuesta > dinero:\n",
        "            break\n",
        "    return dinero\n"
      ],
      "metadata": {
        "id": "dIzE-ebU1mDB"
      },
      "execution_count": null,
      "outputs": []
    },
    {
      "cell_type": "markdown",
      "source": [
        "La función estrategia_martingala implementa la estrategia de martingala, donde el jugador dobla su apuesta después de cada pérdida. Los parámetros incluyen el dinero inicial, la apuesta inicial, el límite de la apuesta y el número de rondas. Si el jugador gana, reinicia la apuesta a la cantidad inicial; si pierde, dobla la apuesta, sin exceder el límite de apuesta."
      ],
      "metadata": {
        "id": "3o3MU10t1pn-"
      }
    },
    {
      "cell_type": "markdown",
      "source": [
        "##Parámetros de la Simulación\n"
      ],
      "metadata": {
        "id": "HQ5HMGCk1u59"
      }
    },
    {
      "cell_type": "code",
      "source": [
        "dinero_inicial = 200\n",
        "apuesta_fija = 1\n",
        "apuesta_inicial = 1\n",
        "limite_apuesta = 500\n",
        "rondas = 1000\n"
      ],
      "metadata": {
        "id": "KKPQoM5J1w0D"
      },
      "execution_count": null,
      "outputs": []
    },
    {
      "cell_type": "markdown",
      "source": [
        "Aquí definimos los parámetros iniciales para la simulación: el dinero inicial de cada jugador, la apuesta fija de $1, la apuesta inicial para la estrategia de martingala, el límite de apuesta de $500 y el número de rondas a simular."
      ],
      "metadata": {
        "id": "ufjvFudI10FF"
      }
    },
    {
      "cell_type": "markdown",
      "source": [
        "##Realización de Simulaciones"
      ],
      "metadata": {
        "id": "wwZqVUoO11-J"
      }
    },
    {
      "cell_type": "code",
      "source": [
        "resultados_fija = []\n",
        "resultados_martingala = []\n",
        "\n",
        "for _ in range(1000):\n",
        "    resultados_fija.append(estrategia_fija(dinero_inicial, apuesta_fija, rondas))\n",
        "    resultados_martingala.append(estrategia_martingala(dinero_inicial, apuesta_inicial, limite_apuesta, rondas))\n"
      ],
      "metadata": {
        "id": "869hGnwF18pl"
      },
      "execution_count": null,
      "outputs": []
    },
    {
      "cell_type": "markdown",
      "source": [
        "Realizamos 1000 simulaciones para cada estrategia, guardando los resultados en listas resultados_fija y resultados_martingala."
      ],
      "metadata": {
        "id": "cZ4p4pyy1-OK"
      }
    },
    {
      "cell_type": "markdown",
      "source": [
        "##Cálculo de los Resultados Promedios"
      ],
      "metadata": {
        "id": "qHfLcWAA2CBm"
      }
    },
    {
      "cell_type": "code",
      "source": [
        "promedio_fija = sum(resultados_fija) / len(resultados_fija)\n",
        "promedio_martingala = sum(resultados_martingala) / len(resultados_martingala)\n"
      ],
      "metadata": {
        "id": "r56JeRyq2Fci"
      },
      "execution_count": null,
      "outputs": []
    },
    {
      "cell_type": "markdown",
      "source": [
        "Calculamos el dinero promedio después de todas las rondas para cada estrategia."
      ],
      "metadata": {
        "id": "37hzalou2IwV"
      }
    },
    {
      "cell_type": "markdown",
      "source": [
        "##Impresión de los Resultados"
      ],
      "metadata": {
        "id": "dBJXGcFo2LNE"
      }
    },
    {
      "cell_type": "code",
      "source": [
        "print(f\"Dinero promedio después de 1000 rondas con la estrategia fija: ${promedio_fija:.2f}\")\n",
        "print(f\"Dinero promedio después de 1000 rondas con la estrategia martingala: ${promedio_martingala:.2f}\")\n"
      ],
      "metadata": {
        "colab": {
          "base_uri": "https://localhost:8080/"
        },
        "id": "S189n4r22OCb",
        "outputId": "7e423f8c-3749-4ade-884d-1a3ac2c27372"
      },
      "execution_count": null,
      "outputs": [
        {
          "output_type": "stream",
          "name": "stdout",
          "text": [
            "Dinero promedio después de 1000 rondas con la estrategia fija: $147.34\n",
            "Dinero promedio después de 1000 rondas con la estrategia martingala: $132.57\n"
          ]
        }
      ]
    },
    {
      "cell_type": "markdown",
      "source": [
        "Finalmente, imprimimos los resultados promedios de dinero al finalizar las rondas para ambas estrategias."
      ],
      "metadata": {
        "id": "yYVUJDXS2QAX"
      }
    }
  ]
}