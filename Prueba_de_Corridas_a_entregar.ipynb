{
  "nbformat": 4,
  "nbformat_minor": 0,
  "metadata": {
    "colab": {
      "provenance": [],
      "authorship_tag": "ABX9TyOHvD5NUhJPOwI92O+++iJ4",
      "include_colab_link": true
    },
    "kernelspec": {
      "name": "python3",
      "display_name": "Python 3"
    },
    "language_info": {
      "name": "python"
    }
  },
  "cells": [
    {
      "cell_type": "markdown",
      "metadata": {
        "id": "view-in-github",
        "colab_type": "text"
      },
      "source": [
        "<a href=\"https://colab.research.google.com/github/alexloaeza12/Simulaci-n-I/blob/main/Prueba_de_Corridas_a_entregar.ipynb\" target=\"_parent\"><img src=\"https://colab.research.google.com/assets/colab-badge.svg\" alt=\"Open In Colab\"/></a>"
      ]
    },
    {
      "cell_type": "markdown",
      "source": [
        "**Programa de la Prueba de Prueba de Corridas**\n",
        "\n",
        "---\n",
        "\n",
        "\n",
        "\n",
        "---\n"
      ],
      "metadata": {
        "id": "F6SCxspPJ4VX"
      }
    },
    {
      "cell_type": "markdown",
      "source": [
        "Una prueba de Corridas es un método que nos ayuda a evaluar el carácter de aleatoriedad de una secuencia de números estadísticamente independientes y números uniformemente distribuidos.\n",
        "\n",
        "\n",
        "---\n",
        "\n",
        "\n",
        "\n",
        "---\n",
        "\n"
      ],
      "metadata": {
        "id": "UjBe412_KZwX"
      }
    },
    {
      "cell_type": "markdown",
      "source": [
        "Nuestro programa analizará una lista de datos ingresada por el susuario y derminara si los número de la muestra son o no son independientes basandonos en las \"corridas\" que vayamos encontrando"
      ],
      "metadata": {
        "id": "qKTUQcvJgCTR"
      }
    },
    {
      "cell_type": "code",
      "execution_count": 69,
      "metadata": {
        "id": "C56PogPgGUTp",
        "colab": {
          "base_uri": "https://localhost:8080/"
        },
        "outputId": "3e67702f-4870-4a0f-90c7-65abbb0f9de3"
      },
      "outputs": [
        {
          "output_type": "stream",
          "name": "stdout",
          "text": [
            "********************************\n",
            "* Programa del Prueba de Corridas *\n",
            "********************************\n",
            "\n",
            "H_o: Los números de la muestra son independientes\n",
            "H_1: Los números de la muestra NO son independientes\n",
            "\n",
            "Ingrese el nivel porcentaje de aceptación:95\n",
            "El nivel de significancia será de 0.05\n"
          ]
        }
      ],
      "source": [
        "import pandas as pd\n",
        "import os\n",
        "from tabulate import tabulate\n",
        "from scipy.stats import chi2\n",
        "import numpy as np\n",
        "import matplotlib.pyplot as plt\n",
        "from scipy.stats import ksone\n",
        "import math\n",
        "import scipy.stats as stats\n",
        "\n",
        "print(\"********************************\")\n",
        "print(\"* Programa del Prueba de Corridas *\")\n",
        "print(\"********************************\\n\")\n",
        "\n",
        "H_0 = \"H_o: Los números de la muestra son independientes\"\n",
        "H_1 = \"H_1: Los números de la muestra NO son independientes\\n\"\n",
        "print(H_0)\n",
        "print(H_1)\n",
        "\n",
        "Nivel_significancia=int(input(\"Ingrese el nivel porcentaje de aceptación:\"))\n",
        "Nivel_significancia=Nivel_significancia/100\n",
        "alpha= round((1- Nivel_significancia),2)\n",
        "print(\"El nivel de significancia será de\",alpha)"
      ]
    },
    {
      "cell_type": "code",
      "source": [
        "#Función para cargar el archivo de Excel y obtener los datos\n",
        "def obtener_datos_desde_excel(nombre_archivo):\n",
        "    try:\n",
        "        #Cargamos el archivo de Excel\n",
        "        df = pd.read_excel(nombre_archivo, decimal=',', header=None)  # No asumir que la primera fila es el encabezado\n",
        "\n",
        "        #Fusionamos todas las columnas en una sola lista\n",
        "        datos = df.values.flatten()\n",
        "\n",
        "        #Mostramos los datos del archivo\n",
        "        print(\"Datos cargados desde el archivo:\")\n",
        "        print(datos)\n",
        "\n",
        "        return datos\n",
        "\n",
        "    except Exception as e:\n",
        "        print(\"Error al cargar el archivo:\", e)\n",
        "        return None\n",
        "\n",
        "#Función para verificar si el archivo existe\n",
        "def archivo_existe(nombre_archivo):\n",
        "    return os.path.isfile(nombre_archivo)\n",
        "\n",
        "#Pedimos al usuario que ingrese el nombre del archivo de Excel\n",
        "nombre_archivo = input(\"Ingrese el nombre del archivo de Excel (incluyendo la extensión): \")\n",
        "\n",
        "#Verificamos si el archivo existe\n",
        "while not archivo_existe(nombre_archivo):\n",
        "    print(\"El archivo ingresado no existe. Por favor, inténtelo de nuevo.\")\n",
        "    nombre_archivo = input(\"Ingrese el nombre del archivo de Excel (incluyendo la extensión): \")\n",
        "\n",
        "#Obtenemos los datos desde el archivo de Excel\n",
        "datos = obtener_datos_desde_excel(nombre_archivo)"
      ],
      "metadata": {
        "id": "RcgTA2rZHY51",
        "colab": {
          "base_uri": "https://localhost:8080/"
        },
        "outputId": "b80c519a-4502-4c38-a8c3-5936a109ee8e"
      },
      "execution_count": 71,
      "outputs": [
        {
          "output_type": "stream",
          "name": "stdout",
          "text": [
            "Ingrese el nombre del archivo de Excel (incluyendo la extensión): Datosc.xlsx\n",
            "Datos cargados desde el archivo:\n",
            "[0.048 0.591 0.478 0.166 0.932 0.926 0.007 0.551 0.362 0.533 0.368 0.437\n",
            " 0.178 0.411 0.545 0.787 0.594 0.086 0.951 0.772 0.298 0.199 0.157 0.401\n",
            " 0.631]\n"
          ]
        }
      ]
    },
    {
      "cell_type": "markdown",
      "source": [
        "#1. Determinamos una secuencia S de unos y ceros\n",
        "\n",
        "\"0\" si x_i <= x_i-1\n",
        "\n",
        "En caso contrari, se escribe \"1\""
      ],
      "metadata": {
        "id": "FA6-oSGEJRJz"
      }
    },
    {
      "cell_type": "code",
      "source": [
        "if datos is not None:\n",
        "    print(\"Los datos del archivo Excel están disponibles.\")\n",
        "\n",
        "    #Creamos la tabla con los datos obtenidos y la columna \"S\"\n",
        "    s_column = [None] + [0 if datos[i] <= datos[i-1] else 1 for i in range(1, len(datos))]\n",
        "    corrida_count = 0\n",
        "    corrida_column = [None]\n",
        "    for i in range(1, len(s_column)):\n",
        "        if s_column[i] != s_column[i-1]:\n",
        "            corrida_count += 1\n",
        "        corrida_column.append(corrida_count if s_column[i] != s_column[i-1] else None)\n",
        "    tabla = {\"x_i\": datos, \"S\": s_column}\n",
        "    print(\"\\nTabla de datos:\")\n",
        "    print(tabulate(tabla, headers=\"keys\", showindex=False, tablefmt=\"grid\"))\n",
        "\n",
        "else:\n",
        "    print(\"No se pudieron cargar los datos del archivo Excel.\")"
      ],
      "metadata": {
        "colab": {
          "base_uri": "https://localhost:8080/"
        },
        "id": "a58UjIuTfTaa",
        "outputId": "91e89339-219c-4969-b653-2499a289b99e"
      },
      "execution_count": 72,
      "outputs": [
        {
          "output_type": "stream",
          "name": "stdout",
          "text": [
            "Los datos del archivo Excel están disponibles.\n",
            "\n",
            "Tabla de datos:\n",
            "+-------+-----+\n",
            "|   x_i |   S |\n",
            "+=======+=====+\n",
            "| 0.048 |     |\n",
            "+-------+-----+\n",
            "| 0.591 |   1 |\n",
            "+-------+-----+\n",
            "| 0.478 |   0 |\n",
            "+-------+-----+\n",
            "| 0.166 |   0 |\n",
            "+-------+-----+\n",
            "| 0.932 |   1 |\n",
            "+-------+-----+\n",
            "| 0.926 |   0 |\n",
            "+-------+-----+\n",
            "| 0.007 |   0 |\n",
            "+-------+-----+\n",
            "| 0.551 |   1 |\n",
            "+-------+-----+\n",
            "| 0.362 |   0 |\n",
            "+-------+-----+\n",
            "| 0.533 |   1 |\n",
            "+-------+-----+\n",
            "| 0.368 |   0 |\n",
            "+-------+-----+\n",
            "| 0.437 |   1 |\n",
            "+-------+-----+\n",
            "| 0.178 |   0 |\n",
            "+-------+-----+\n",
            "| 0.411 |   1 |\n",
            "+-------+-----+\n",
            "| 0.545 |   1 |\n",
            "+-------+-----+\n",
            "| 0.787 |   1 |\n",
            "+-------+-----+\n",
            "| 0.594 |   0 |\n",
            "+-------+-----+\n",
            "| 0.086 |   0 |\n",
            "+-------+-----+\n",
            "| 0.951 |   1 |\n",
            "+-------+-----+\n",
            "| 0.772 |   0 |\n",
            "+-------+-----+\n",
            "| 0.298 |   0 |\n",
            "+-------+-----+\n",
            "| 0.199 |   0 |\n",
            "+-------+-----+\n",
            "| 0.157 |   0 |\n",
            "+-------+-----+\n",
            "| 0.401 |   1 |\n",
            "+-------+-----+\n",
            "| 0.631 |   1 |\n",
            "+-------+-----+\n"
          ]
        }
      ]
    },
    {
      "cell_type": "markdown",
      "source": [
        "#2. Hallamos el número de corridas"
      ],
      "metadata": {
        "id": "HDzsZUR-K9eM"
      }
    },
    {
      "cell_type": "code",
      "source": [
        "if datos is not None:\n",
        "    print(\"Los datos del archivo Excel están disponibles.\")\n",
        "\n",
        "    #Creamos la tabla con los datos obtenidos y la columna \"S y las corridas\"\n",
        "    s_column = [None] + [0 if datos[i] <= datos[i-1] else 1 for i in range(1, len(datos))]\n",
        "    corrida_count = 0\n",
        "    corrida_column = [None]\n",
        "    for i in range(1, len(s_column)):\n",
        "        if s_column[i] != s_column[i-1]:\n",
        "            corrida_count += 1\n",
        "        corrida_column.append(corrida_count if s_column[i] != s_column[i-1] else None)\n",
        "    tabla = {\"x_i\": datos, \"S\": s_column, \"Corridas\": corrida_column}\n",
        "    print(\"\\nTabla de datos:\")\n",
        "    print(tabulate(tabla, headers=\"keys\", showindex=False, tablefmt=\"grid\"))\n",
        "\n",
        "else:\n",
        "    print(\"No se pudieron cargar los datos del archivo Excel.\")"
      ],
      "metadata": {
        "colab": {
          "base_uri": "https://localhost:8080/"
        },
        "id": "-KVUP22ffLkj",
        "outputId": "d6ab3a7c-7d31-4ff1-e85d-a5cfeb72d90b"
      },
      "execution_count": 73,
      "outputs": [
        {
          "output_type": "stream",
          "name": "stdout",
          "text": [
            "Los datos del archivo Excel están disponibles.\n",
            "\n",
            "Tabla de datos:\n",
            "+-------+-----+------------+\n",
            "|   x_i |   S |   Corridas |\n",
            "+=======+=====+============+\n",
            "| 0.048 |     |            |\n",
            "+-------+-----+------------+\n",
            "| 0.591 |   1 |          1 |\n",
            "+-------+-----+------------+\n",
            "| 0.478 |   0 |          2 |\n",
            "+-------+-----+------------+\n",
            "| 0.166 |   0 |            |\n",
            "+-------+-----+------------+\n",
            "| 0.932 |   1 |          3 |\n",
            "+-------+-----+------------+\n",
            "| 0.926 |   0 |          4 |\n",
            "+-------+-----+------------+\n",
            "| 0.007 |   0 |            |\n",
            "+-------+-----+------------+\n",
            "| 0.551 |   1 |          5 |\n",
            "+-------+-----+------------+\n",
            "| 0.362 |   0 |          6 |\n",
            "+-------+-----+------------+\n",
            "| 0.533 |   1 |          7 |\n",
            "+-------+-----+------------+\n",
            "| 0.368 |   0 |          8 |\n",
            "+-------+-----+------------+\n",
            "| 0.437 |   1 |          9 |\n",
            "+-------+-----+------------+\n",
            "| 0.178 |   0 |         10 |\n",
            "+-------+-----+------------+\n",
            "| 0.411 |   1 |         11 |\n",
            "+-------+-----+------------+\n",
            "| 0.545 |   1 |            |\n",
            "+-------+-----+------------+\n",
            "| 0.787 |   1 |            |\n",
            "+-------+-----+------------+\n",
            "| 0.594 |   0 |         12 |\n",
            "+-------+-----+------------+\n",
            "| 0.086 |   0 |            |\n",
            "+-------+-----+------------+\n",
            "| 0.951 |   1 |         13 |\n",
            "+-------+-----+------------+\n",
            "| 0.772 |   0 |         14 |\n",
            "+-------+-----+------------+\n",
            "| 0.298 |   0 |            |\n",
            "+-------+-----+------------+\n",
            "| 0.199 |   0 |            |\n",
            "+-------+-----+------------+\n",
            "| 0.157 |   0 |            |\n",
            "+-------+-----+------------+\n",
            "| 0.401 |   1 |         15 |\n",
            "+-------+-----+------------+\n",
            "| 0.631 |   1 |            |\n",
            "+-------+-----+------------+\n"
          ]
        }
      ]
    },
    {
      "cell_type": "markdown",
      "source": [
        "#3. Cálculo del valor esperado y la varizanza del número de corridas, así como es estadístico de pueba \"Z_o\"\n"
      ],
      "metadata": {
        "id": "Nf0S6do-LDyX"
      }
    },
    {
      "cell_type": "markdown",
      "source": [
        "El usuario tendrá que mirar su tabla anterior y de esta manera ingresar los datos solicitados para obtener su Media, Varianza, Desviación estandár y su Estadístico de pureba y conforme a eso se tomará una decisión"
      ],
      "metadata": {
        "id": "KaI_uTsZjEzW"
      }
    },
    {
      "cell_type": "code",
      "source": [
        "#El usuario ingresa sus datos obserbando su lista y la tabla\n",
        "n=int(input(\"Ingrese el su número total de datos:\"))\n",
        "Co=int(input(\"Ingrese el su número total de corridas:\"))\n",
        "\n",
        "#Obtenémos la media, varianza, desviación estandár y el estadístico de prueba\n",
        "med = (2 * n -1)/3\n",
        "print(\"\\nMedia:\", M_co)\n",
        "\n",
        "var = (16 * n - 29) / 90\n",
        "print(\"\\nVarianza:\", var)\n",
        "\n",
        "des_std = math.sqrt(var)\n",
        "print(\"\\nDesviación estandár:\", des_std)\n",
        "\n",
        "eprueba = (Co - med)/des_std\n",
        "print(\"\\nEs estadístico de prueba es:\", eprueba)\n",
        "\n",
        "z_critico_positivo = stats.norm.ppf(1 - alpha/2)\n",
        "z_critico_negativo = -z_critico_positivo\n",
        "\n",
        "print(\"\\nValor crítico positivo utilizando la regla empírica:\", z_critico_positivo)\n",
        "print(\"Valor crítico negativo utilizando la regla empírica:\", z_critico_negativo)\n",
        "\n",
        "if -z_critico_negativo > eprueba and eprueba < z_critico_positivo:\n",
        "    print(\"\\nSe acepta la hipótesis nula (H_0)\")\n",
        "else:\n",
        "    print(\"\\nSe rechaza la hipótesis nula (H_0)\")"
      ],
      "metadata": {
        "colab": {
          "base_uri": "https://localhost:8080/"
        },
        "id": "skrJTEYhinTh",
        "outputId": "6b34a6cc-ecc2-4bcb-ef3c-23bf15ba4dbc"
      },
      "execution_count": 89,
      "outputs": [
        {
          "output_type": "stream",
          "name": "stdout",
          "text": [
            "Ingrese el su número total de datos:25\n",
            "Ingrese el su número total de corridas:15\n",
            "\n",
            "Media: 16.333333333333332\n",
            "\n",
            "Varianza: 4.122222222222222\n",
            "\n",
            "Desviación estandár: 2.030325644378808\n",
            "\n",
            "Es estadístico de prueba es: -0.6567091033031179\n",
            "\n",
            "Valor crítico positivo utilizando la regla empírica: 1.959963984540054\n",
            "Valor crítico negativo utilizando la regla empírica: -1.959963984540054\n",
            "\n",
            "Se acepta la hipótesis nula (H_0)\n"
          ]
        }
      ]
    }
  ]
}