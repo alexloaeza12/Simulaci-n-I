{
  "nbformat": 4,
  "nbformat_minor": 0,
  "metadata": {
    "colab": {
      "provenance": [],
      "authorship_tag": "ABX9TyMOh4xMju1RjkMcNRdwJC+2",
      "include_colab_link": true
    },
    "kernelspec": {
      "name": "python3",
      "display_name": "Python 3"
    },
    "language_info": {
      "name": "python"
    }
  },
  "cells": [
    {
      "cell_type": "markdown",
      "metadata": {
        "id": "view-in-github",
        "colab_type": "text"
      },
      "source": [
        "<a href=\"https://colab.research.google.com/github/alexloaeza12/Simulaci-n-I/blob/main/Programas%20del%20curso.ipynb\" target=\"_parent\"><img src=\"https://colab.research.google.com/assets/colab-badge.svg\" alt=\"Open In Colab\"/></a>"
      ]
    },
    {
      "cell_type": "code",
      "execution_count": null,
      "metadata": {
        "colab": {
          "base_uri": "https://localhost:8080/"
        },
        "id": "g3Tv5kBvVcro",
        "outputId": "1974b191-17c5-4a13-a493-860234c6d66f"
      },
      "outputs": [
        {
          "output_type": "stream",
          "name": "stdout",
          "text": [
            "Calculadora con una sola variable \n",
            "\n",
            "*********************\n",
            "* Menú de opciones *\n",
            "*********************\n",
            "1. Suma\n",
            "2. Resta\n",
            "3. Multiplicación\n",
            "4. División\n",
            "5. División entera\n",
            "6. Exponente\n",
            "7. Módulo o resto \n",
            "\n",
            "Introduce la opción deseada:3\n",
            "Elegiste multiplicación \n",
            "\n",
            "Introduce el primer número:5\n",
            "Introduce el segundo número:4\n",
            "El resultado de la multiplicación es: 20\n"
          ]
        }
      ],
      "source": [
        "print(\"Calculadora con una sola variable \\n\")\n",
        "\n",
        "print(\"*********************\")\n",
        "print(\"* Menú de opciones *\")\n",
        "print(\"*********************\")\n",
        "\n",
        "print(\"1. Suma\")\n",
        "print(\"2. Resta\")\n",
        "print(\"3. Multiplicación\")\n",
        "print(\"4. División\")\n",
        "print(\"5. División entera\")\n",
        "print(\"6. Exponente\")\n",
        "print(\"7. Módulo o resto \\n\")\n",
        "\n",
        "numero = int(input(\"Introduce la opción deseada:\"))\n",
        "\n",
        "if numero == 1:\n",
        "\n",
        "  print(\"Elegiste suma \\n\")\n",
        "  numero = int(input(\"Introduce el primer número:\"))\n",
        "  numero += int(input(\"Introduce el segundo número:\"))\n",
        "  print(\"El resultado de la suma es:\", numero)\n",
        "\n",
        "elif numero == 2:\n",
        "\n",
        "  print(\"Elegiste resta \\n\")\n",
        "  numero = int(input(\"Introduce el primer número:\"))\n",
        "  numero -= int(input(\"Introduce el segundo número:\"))\n",
        "  print(\"El resultado de la resta es:\", numero)\n",
        "\n",
        "elif numero == 3:\n",
        "\n",
        "  print(\"Elegiste multiplicación \\n\")\n",
        "  numero = int(input(\"Introduce el primer número:\"))\n",
        "  numero *= int(input(\"Introduce el segundo número:\"))\n",
        "  print(\"El resultado de la multiplicación es:\", numero)\n",
        "\n",
        "elif numero == 4:\n",
        "\n",
        "  print(\"Elegiste división \\n\")\n",
        "  numero = float(input(\"Introduce el primer número:\"))\n",
        "  numero /= float(input(\"Introduce el segundo número:\"))\n",
        "  print(\"El resultado de la división es:\", round(numero, 2))\n",
        "\n",
        "elif numero == 5:\n",
        "\n",
        "  print(\"Elegiste división entera \\n\")\n",
        "  numero = int(input(\"Introduce el primer número:\"))\n",
        "  numero //= int(input(\"Introduce el segundo número:\"))\n",
        "  print(\"El resultado de la división entera es:\", numero)\n",
        "\n",
        "elif numero == 6:\n",
        "\n",
        "  print(\"Elegiste exponente \\n\")\n",
        "  numero = int(input(\"Introduce el primer número:\"))\n",
        "  numero **= int(input(\"Introduce el segundo número:\"))\n",
        "  print(\"El resultado del exponente es:\", numero)\n",
        "\n",
        "elif numero == 7:\n",
        "\n",
        "  print(\"Elegiste módulo o resto \\n\")\n",
        "  numero = int(input(\"Introduce el primer número:\"))\n",
        "  numero %= int(input(\"Introduce el segundo número:\"))\n",
        "  print(\"El resultado del módulo o resto es:\", numero)\n",
        "\n",
        "else:\n",
        "  print(\"La opción elegida no existe, vuelve a intenrar.\")\n",
        "\n",
        "\n"
      ]
    },
    {
      "cell_type": "code",
      "source": [
        "print(\"Esto es un\", end=\"-*/\")\n",
        "print(\"ejemplo\")"
      ],
      "metadata": {
        "id": "qIeU6S1CsyTC",
        "outputId": "f691bd14-0f02-48ad-ef50-bc4ed04b11c8",
        "colab": {
          "base_uri": "https://localhost:8080/"
        }
      },
      "execution_count": null,
      "outputs": [
        {
          "output_type": "stream",
          "name": "stdout",
          "text": [
            "Esto es un-*/ejemplo\n"
          ]
        }
      ]
    },
    {
      "cell_type": "code",
      "source": [
        "print(\"1\",\"2\",\"3\",\"4\",\"5\", sep=\"\")"
      ],
      "metadata": {
        "id": "ZjWbm0-as0k1",
        "outputId": "82f28b52-c356-4494-92dd-97cfd0155563",
        "colab": {
          "base_uri": "https://localhost:8080/"
        }
      },
      "execution_count": null,
      "outputs": [
        {
          "output_type": "stream",
          "name": "stdout",
          "text": [
            "12345\n"
          ]
        }
      ]
    },
    {
      "cell_type": "code",
      "source": [
        "#Bucle \"while\"\n",
        "x = 1\n",
        "\n",
        "while x<3:\n",
        "  print(x)\n",
        "  x += 1\n",
        "\n",
        "print(\"Fin.\")\n"
      ],
      "metadata": {
        "colab": {
          "base_uri": "https://localhost:8080/"
        },
        "id": "4XJ4YmnXLcjA",
        "outputId": "dd228126-17ea-47dc-f35c-dccd057d39da"
      },
      "execution_count": 1,
      "outputs": [
        {
          "output_type": "stream",
          "name": "stdout",
          "text": [
            "1\n",
            "2\n",
            "Fin.\n"
          ]
        }
      ]
    },
    {
      "cell_type": "code",
      "source": [
        "#Ejemplo 2\n",
        "\n",
        "x = 0\n",
        "while x<10:\n",
        "  print(\"Ernesto\")\n",
        "  x += 1"
      ],
      "metadata": {
        "colab": {
          "base_uri": "https://localhost:8080/"
        },
        "id": "6FJyCWi8MJlV",
        "outputId": "9fa95d51-f234-4ec9-89fa-272da9e368ed"
      },
      "execution_count": 7,
      "outputs": [
        {
          "output_type": "stream",
          "name": "stdout",
          "text": [
            "Ernesto\n",
            "Ernesto\n",
            "Ernesto\n",
            "Ernesto\n",
            "Ernesto\n",
            "Ernesto\n",
            "Ernesto\n",
            "Ernesto\n",
            "Ernesto\n",
            "Ernesto\n"
          ]
        }
      ]
    },
    {
      "cell_type": "markdown",
      "source": [
        "**Ejercicio práctico #5(Sucesión de Fibonacci)**"
      ],
      "metadata": {
        "id": "lysuBJ1YMurA"
      }
    },
    {
      "cell_type": "code",
      "source": [
        "num_uno, num_dos, = 0, 1\n",
        "while num_dos <= 1597:\n",
        "  print(num_uno, num_dos, end=\" \") #End sirve para crear un espacio\n",
        "  num_uno = num_uno + num_dos\n",
        "  num_dos = num_uno + num_dos\n",
        "\n"
      ],
      "metadata": {
        "colab": {
          "base_uri": "https://localhost:8080/"
        },
        "id": "uhiumZzTM1lr",
        "outputId": "cb4b73fe-6876-4220-e62c-2f7dbf346cb8"
      },
      "execution_count": 9,
      "outputs": [
        {
          "output_type": "stream",
          "name": "stdout",
          "text": [
            "0 1 1 2 3 5 8 13 21 34 55 89 144 233 377 610 987 1597 "
          ]
        }
      ]
    },
    {
      "cell_type": "markdown",
      "source": [
        "**Las sentencias break y continue con while**"
      ],
      "metadata": {
        "id": "WgI_hCHGQ2VP"
      }
    },
    {
      "cell_type": "code",
      "source": [
        "#Ejemplo para break\n",
        "print(\"while con la sentencia break \\n\")\n",
        "contador = 0\n",
        "while contador <10:\n",
        "  contador += 1\n",
        "\n",
        "  if contador == 5:\n",
        "    break\n",
        "\n",
        "  print(\"Valor actual de la variable: \", contador)\n",
        "\n",
        "#Ejemplo para continue\n",
        "print(\"\\nwhile con la sentencia continue \\n\")\n",
        "contador = 0\n",
        "while contador <10:\n",
        "  contador += 1\n",
        "\n",
        "  if contador == 5:\n",
        "    continue\n",
        "\n",
        "  print(\"Valor actual de la variable: \", contador)\n",
        ""
      ],
      "metadata": {
        "colab": {
          "base_uri": "https://localhost:8080/"
        },
        "id": "WhYV2j7zQ-1a",
        "outputId": "663cba45-381d-40f6-e433-a7ac03a7e8b2"
      },
      "execution_count": 14,
      "outputs": [
        {
          "output_type": "stream",
          "name": "stdout",
          "text": [
            "while con la sentencia break \n",
            "\n",
            "Valor actual de la variable:  1\n",
            "Valor actual de la variable:  2\n",
            "Valor actual de la variable:  3\n",
            "Valor actual de la variable:  4\n",
            "\n",
            "while con la sentencia continue \n",
            "\n",
            "Valor actual de la variable:  1\n",
            "Valor actual de la variable:  2\n",
            "Valor actual de la variable:  3\n",
            "Valor actual de la variable:  4\n",
            "Valor actual de la variable:  6\n",
            "Valor actual de la variable:  7\n",
            "Valor actual de la variable:  8\n",
            "Valor actual de la variable:  9\n",
            "Valor actual de la variable:  10\n"
          ]
        }
      ]
    },
    {
      "cell_type": "markdown",
      "source": [
        "**La función 'len()'**"
      ],
      "metadata": {
        "id": "kbJYc_qrTULk"
      }
    },
    {
      "cell_type": "code",
      "source": [
        "#Función len()\n",
        "\n",
        "#Opción 1\n",
        "print(\"Hola tiene\", len(\"Hola\"), \"carácteres.\")\n",
        "\n",
        "#Opción 2\n",
        "longitud = len(\"La geekipedia\")\n",
        "print(\"La Geekipedia tiene\", longitud, \"carácteres\")"
      ],
      "metadata": {
        "colab": {
          "base_uri": "https://localhost:8080/"
        },
        "id": "SNcDyvwtS3HL",
        "outputId": "1d70157e-3370-461b-ecf6-5fbaddd34169"
      },
      "execution_count": 13,
      "outputs": [
        {
          "output_type": "stream",
          "name": "stdout",
          "text": [
            "Hola tiene 4 carácteres.\n",
            "La Geekipedia tiene 13 carácteres\n"
          ]
        }
      ]
    },
    {
      "cell_type": "markdown",
      "source": [
        "**Concatenación con el método format()**"
      ],
      "metadata": {
        "id": "YfQcN7gh5Sum"
      }
    },
    {
      "cell_type": "code",
      "source": [
        "#Opción 1\n",
        "nombre = \"Carlos\"\n",
        "edad = 22\n",
        "\n",
        "print(\"Hola {} tienes {} años.\".format(nombre, edad))\n",
        "\n",
        "#Opción 2\n",
        "print(\"\\nHola {nombre} tienes {edad} años.\".format(nombre = \"Carlos\", edad = 22))\n",
        "\n",
        "#Opción 3\n",
        "nombre = \"Carlos\"\n",
        "edad = 22\n",
        "\n",
        "print(\"\\nHola {1} tienes {0} años.\".format(edad, nombre))\n"
      ],
      "metadata": {
        "colab": {
          "base_uri": "https://localhost:8080/"
        },
        "id": "vIK3yRO75YWP",
        "outputId": "f601ba57-0579-4766-a3cf-3f577ec361bb"
      },
      "execution_count": 20,
      "outputs": [
        {
          "output_type": "stream",
          "name": "stdout",
          "text": [
            "Hola Carlos tienes 22 años.\n",
            "\n",
            "Hola Carlos tienes 22 años.\n",
            "\n",
            "Hola Carlos tienes 22 años.\n"
          ]
        }
      ]
    },
    {
      "cell_type": "markdown",
      "source": [
        "**Concatenación con f-String**"
      ],
      "metadata": {
        "id": "-J7gFMIH7IIt"
      }
    },
    {
      "cell_type": "code",
      "source": [],
      "metadata": {
        "id": "6EReXC8P7LN7"
      },
      "execution_count": null,
      "outputs": []
    }
  ]
}