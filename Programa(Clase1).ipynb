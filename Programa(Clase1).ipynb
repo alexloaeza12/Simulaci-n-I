{
  "nbformat": 4,
  "nbformat_minor": 0,
  "metadata": {
    "colab": {
      "provenance": [],
      "authorship_tag": "ABX9TyPgNRWtKx1Nca3tYrKRFKgr",
      "include_colab_link": true
    },
    "kernelspec": {
      "name": "python3",
      "display_name": "Python 3"
    },
    "language_info": {
      "name": "python"
    }
  },
  "cells": [
    {
      "cell_type": "markdown",
      "metadata": {
        "id": "view-in-github",
        "colab_type": "text"
      },
      "source": [
        "<a href=\"https://colab.research.google.com/github/alexloaeza12/Simulaci-n-I/blob/main/Programa(Clase1).ipynb\" target=\"_parent\"><img src=\"https://colab.research.google.com/assets/colab-badge.svg\" alt=\"Open In Colab\"/></a>"
      ]
    },
    {
      "cell_type": "code",
      "execution_count": 41,
      "metadata": {
        "colab": {
          "base_uri": "https://localhost:8080/"
        },
        "id": "Pgn5J0h7L89p",
        "outputId": "f666203a-5d84-496f-ebab-31035aaf343f"
      },
      "outputs": [
        {
          "output_type": "stream",
          "name": "stdout",
          "text": [
            "******************************************************************************************\n",
            "Este programa toma 4 dígitos de un número, lo eleva al cuadrado y tomar el cuadrado medio\n",
            "****************************************************************************************** \n",
            "\n",
            "Escribre un número de 4 dígitos: 1234\n",
            "Este es tu número aleatorio:  1234\n",
            "\n",
            "Ahora se elevará este número al cuadrado. \n",
            "\n",
            "Este es tu número elevado al cuadrado: 1522756\n",
            "Tu número tiene 7 dígitos, por lo que se le agregará un '0' al principio\n",
            "Este es tu nuevo número aleatorio:  01522756\n",
            "Este son los dígitos del cuadrado medio: ['5', '2', '2', '7']\n"
          ]
        }
      ],
      "source": [
        "print(\"******************************************************************************************\")\n",
        "print(\"Este programa toma 4 dígitos de un número, lo eleva al cuadrado y tomar el cuadrado medio\")\n",
        "print(\"****************************************************************************************** \\n\")\n",
        "\n",
        "num_alt = (int(input(\"Escribre un número de 4 dígitos: \")))\n",
        "print(\"Este es tu número aleatorio: \", num_alt)\n",
        "\n",
        "print(\"\\nAhora se elevará este número al cuadrado. \\n\")\n",
        "num_alt2 = num_alt*num_alt\n",
        "print(\"Este es tu número elevado al cuadrado:\", num_alt2)\n",
        "\n",
        "cadena = str(num_alt2)\n",
        "cantidad = len(cadena)\n",
        "cero = str(0)\n",
        "if cantidad <8:\n",
        "  print(\"Tu número tiene 7 dígitos, por lo que se le agregará un '0' al principio\")\n",
        "  num_alt3 = cero + cadena\n",
        "  print(\"Este es tu nuevo número aleatorio: \", num_alt3)\n",
        "  num_alt4 = [num_alt3[i] for i in range(2,6)]\n",
        "  print(\"Este son los dígitos del cuadrado medio:\", num_alt4)\n",
        "else:\n",
        "  num_alt5 = [num_alt2[i] for i in range(2,6)]\n",
        "  print(\"Este son los dígitos del cuadrado medio:\", num_alt5)\n"
      ]
    }
  ]
}