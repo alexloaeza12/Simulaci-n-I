{
  "nbformat": 4,
  "nbformat_minor": 0,
  "metadata": {
    "colab": {
      "provenance": [],
      "authorship_tag": "ABX9TyM9Q2WF3RHWOShRVIU0JG+M",
      "include_colab_link": true
    },
    "kernelspec": {
      "name": "python3",
      "display_name": "Python 3"
    },
    "language_info": {
      "name": "python"
    }
  },
  "cells": [
    {
      "cell_type": "markdown",
      "metadata": {
        "id": "view-in-github",
        "colab_type": "text"
      },
      "source": [
        "<a href=\"https://colab.research.google.com/github/alexloaeza12/Simulaci-n-I/blob/main/Calculadora(Curso).ipynb\" target=\"_parent\"><img src=\"https://colab.research.google.com/assets/colab-badge.svg\" alt=\"Open In Colab\"/></a>"
      ]
    },
    {
      "cell_type": "code",
      "execution_count": 3,
      "metadata": {
        "colab": {
          "base_uri": "https://localhost:8080/"
        },
        "id": "g3Tv5kBvVcro",
        "outputId": "1974b191-17c5-4a13-a493-860234c6d66f"
      },
      "outputs": [
        {
          "output_type": "stream",
          "name": "stdout",
          "text": [
            "Calculadora con una sola variable \n",
            "\n",
            "*********************\n",
            "* Menú de opciones *\n",
            "*********************\n",
            "1. Suma\n",
            "2. Resta\n",
            "3. Multiplicación\n",
            "4. División\n",
            "5. División entera\n",
            "6. Exponente\n",
            "7. Módulo o resto \n",
            "\n",
            "Introduce la opción deseada:3\n",
            "Elegiste multiplicación \n",
            "\n",
            "Introduce el primer número:5\n",
            "Introduce el segundo número:4\n",
            "El resultado de la multiplicación es: 20\n"
          ]
        }
      ],
      "source": [
        "print(\"Calculadora con una sola variable \\n\")\n",
        "\n",
        "print(\"*********************\")\n",
        "print(\"* Menú de opciones *\")\n",
        "print(\"*********************\")\n",
        "\n",
        "print(\"1. Suma\")\n",
        "print(\"2. Resta\")\n",
        "print(\"3. Multiplicación\")\n",
        "print(\"4. División\")\n",
        "print(\"5. División entera\")\n",
        "print(\"6. Exponente\")\n",
        "print(\"7. Módulo o resto \\n\")\n",
        "\n",
        "numero = int(input(\"Introduce la opción deseada:\"))\n",
        "\n",
        "if numero == 1:\n",
        "\n",
        "  print(\"Elegiste suma \\n\")\n",
        "  numero = int(input(\"Introduce el primer número:\"))\n",
        "  numero += int(input(\"Introduce el segundo número:\"))\n",
        "  print(\"El resultado de la suma es:\", numero)\n",
        "\n",
        "elif numero == 2:\n",
        "\n",
        "  print(\"Elegiste resta \\n\")\n",
        "  numero = int(input(\"Introduce el primer número:\"))\n",
        "  numero -= int(input(\"Introduce el segundo número:\"))\n",
        "  print(\"El resultado de la resta es:\", numero)\n",
        "\n",
        "elif numero == 3:\n",
        "\n",
        "  print(\"Elegiste multiplicación \\n\")\n",
        "  numero = int(input(\"Introduce el primer número:\"))\n",
        "  numero *= int(input(\"Introduce el segundo número:\"))\n",
        "  print(\"El resultado de la multiplicación es:\", numero)\n",
        "\n",
        "elif numero == 4:\n",
        "\n",
        "  print(\"Elegiste división \\n\")\n",
        "  numero = float(input(\"Introduce el primer número:\"))\n",
        "  numero /= float(input(\"Introduce el segundo número:\"))\n",
        "  print(\"El resultado de la división es:\", round(numero, 2))\n",
        "\n",
        "elif numero == 5:\n",
        "\n",
        "  print(\"Elegiste división entera \\n\")\n",
        "  numero = int(input(\"Introduce el primer número:\"))\n",
        "  numero //= int(input(\"Introduce el segundo número:\"))\n",
        "  print(\"El resultado de la división entera es:\", numero)\n",
        "\n",
        "elif numero == 6:\n",
        "\n",
        "  print(\"Elegiste exponente \\n\")\n",
        "  numero = int(input(\"Introduce el primer número:\"))\n",
        "  numero **= int(input(\"Introduce el segundo número:\"))\n",
        "  print(\"El resultado del exponente es:\", numero)\n",
        "\n",
        "elif numero == 7:\n",
        "\n",
        "  print(\"Elegiste módulo o resto \\n\")\n",
        "  numero = int(input(\"Introduce el primer número:\"))\n",
        "  numero %= int(input(\"Introduce el segundo número:\"))\n",
        "  print(\"El resultado del módulo o resto es:\", numero)\n",
        "\n",
        "else:\n",
        "  print(\"La opción elegida no existe, vuelve a intenrar.\")\n",
        "\n",
        "\n"
      ]
    }
  ]
}